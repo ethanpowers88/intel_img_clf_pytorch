{
 "cells": [
  {
   "cell_type": "code",
   "execution_count": 17,
   "metadata": {},
   "outputs": [],
   "source": [
    "import pathlib\n",
    "import os\n",
    "import sys\n",
    "from torch.utils.data import DataLoader\n",
    "\n",
    "PACKAGE_PARENT = pathlib.Path.cwd().parent \n",
    "SCR_DIR = os.path.join(PACKAGE_PARENT, 'src')\n",
    "sys.path.append(SCR_DIR)\n",
    "\n",
    "from config.loc_config import TRAIN_DATA_LOC, TEST_DATA_LOC, PRED_DATA_LOC, ANNOT_LOC\n",
    "from config.data_config import INPUT_WIDTH, INPUT_HEIGHT, INPUT_CHANNEL, BATCH_SIZE, NUM_WORKERS\n",
    "from preprocessing.utils import build_annotation_csv, check_annot_dataframe, transform_bilinear\n",
    "from model.dataset import IntelDataset, create_validation_dataset\n",
    "import model.cnn_model as cnn_model"
   ]
  },
  {
   "cell_type": "code",
   "execution_count": 27,
   "metadata": {},
   "outputs": [],
   "source": [
    "import importlib\n",
    "import model.dataset\n",
    "import model.cnn_model as cnn_model\n",
    "importlib.reload(model.dataset)\n",
    "importlib.reload(model.cnn_model)\n",
    "from model.dataset import IntelDataset, create_validation_dataset\n",
    "import model.cnn_model as cnn_model"
   ]
  },
  {
   "attachments": {},
   "cell_type": "markdown",
   "metadata": {},
   "source": [
    "### 1. Creating and Preprocessing Input Dataset"
   ]
  },
  {
   "cell_type": "code",
   "execution_count": 28,
   "metadata": {},
   "outputs": [
    {
     "name": "stdout",
     "output_type": "stream",
     "text": [
      "['buildings', 'forest', 'glacier', 'mountain', 'sea', 'street']\n",
      "[(3, 'mountain'), (4, 'sea'), (1, 'forest'), (2, 'glacier'), (0, 'buildings'), (5, 'street')]\n",
      "[(3, 'mountain'), (4, 'sea'), (1, 'forest'), (2, 'glacier'), (0, 'buildings'), (5, 'street')]\n"
     ]
    }
   ],
   "source": [
    "train_df = build_annotation_csv(image_location=TRAIN_DATA_LOC, annot_location=ANNOT_LOC, output_csv_name='train.csv')\n",
    "test_df = build_annotation_csv(image_location=TEST_DATA_LOC, annot_location=ANNOT_LOC, output_csv_name='test.csv')\n",
    "class_names = list(train_df['class_name'].unique())\n",
    "print(class_names)\n",
    "print(check_annot_dataframe(train_df))\n",
    "print(check_annot_dataframe(test_df))"
   ]
  },
  {
   "cell_type": "code",
   "execution_count": 29,
   "metadata": {},
   "outputs": [
    {
     "name": "stdout",
     "output_type": "stream",
     "text": [
      "11227 2807\n",
      "Train set size:  11227\n",
      "Validation set size:  2807\n",
      "Test set size:  3000\n"
     ]
    },
    {
     "name": "stderr",
     "output_type": "stream",
     "text": [
      "c:\\Users\\phuon\\OneDrive\\Documents\\GitHub\\intel_img_clf_pytorch\\venv39\\lib\\site-packages\\torchvision\\transforms\\transforms.py:332: UserWarning: Argument 'interpolation' of type int is deprecated since 0.13 and will be removed in 0.15. Please use InterpolationMode enum.\n",
      "  warnings.warn(\n"
     ]
    }
   ],
   "source": [
    "image_transform = transform_bilinear(INPUT_WIDTH, INPUT_HEIGHT)\n",
    "main_dataset = IntelDataset(annot_df = train_df, transform=image_transform)\n",
    "train_dataset, validation_dataset = create_validation_dataset(main_dataset, validation_proportion=0.2)\n",
    "print('Train set size: ', len(train_dataset))\n",
    "print('Validation set size: ', len(validation_dataset))\n",
    "\n",
    "test_dataset = IntelDataset(annot_df = test_df, transform=image_transform)\n",
    "print('Test set size: ', len(test_dataset))"
   ]
  },
  {
   "attachments": {},
   "cell_type": "markdown",
   "metadata": {},
   "source": [
    "### 2. Configuring the Dataloaders"
   ]
  },
  {
   "cell_type": "code",
   "execution_count": 31,
   "metadata": {},
   "outputs": [],
   "source": [
    "train_loader = DataLoader(train_dataset, batch_size = BATCH_SIZE, shuffle=True, num_workers = NUM_WORKERS)\n",
    "val_loader = DataLoader(validation_dataset, batch_size = BATCH_SIZE, shuffle=True, num_workers = NUM_WORKERS)\n",
    "test_loader = DataLoader(test_dataset, batch_size = BATCH_SIZE, shuffle=True, num_workers = NUM_WORKERS)"
   ]
  },
  {
   "attachments": {},
   "cell_type": "markdown",
   "metadata": {},
   "source": [
    "\n",
    "\n",
    "model.train() tells your model that you are training the model. This helps inform layers such as Dropout and BatchNorm, which are designed to behave differently during training and evaluation. For instance, in training mode, BatchNorm updates a moving average on each new batch; whereas, for evaluation mode, these updates are frozen.\n",
    "\n",
    "More details: model.train() sets the mode to train (see source code). You can call either model.eval() or model.train(mode=False) to tell that you are testing. It is somewhat intuitive to expect train function to train model but it does not do that. It just sets the mode.\n"
   ]
  },
  {
   "cell_type": "code",
   "execution_count": 32,
   "metadata": {},
   "outputs": [
    {
     "name": "stdout",
     "output_type": "stream",
     "text": [
      "Current device: cpu\n",
      "Is Model on CUDA: False\n",
      "----------------------------------------------------------------\n",
      "        Layer (type)               Output Shape         Param #\n",
      "================================================================\n",
      "            Conv2d-1         [-1, 16, 224, 224]             448\n",
      "            Conv2d-2         [-1, 16, 224, 224]           2,320\n",
      "         MaxPool2d-3         [-1, 16, 112, 112]               0\n",
      "            Conv2d-4         [-1, 32, 112, 112]           4,640\n",
      "            Conv2d-5         [-1, 32, 112, 112]           9,248\n",
      "         MaxPool2d-6           [-1, 32, 56, 56]               0\n",
      "            Conv2d-7           [-1, 64, 56, 56]          18,496\n",
      "            Conv2d-8           [-1, 64, 56, 56]          36,928\n",
      "            Conv2d-9           [-1, 64, 56, 56]          36,928\n",
      "        MaxPool2d-10           [-1, 64, 28, 28]               0\n",
      "           Linear-11                  [-1, 500]      25,088,500\n",
      "           Linear-12                   [-1, 50]          25,050\n",
      "           Linear-13                    [-1, 6]             306\n",
      "================================================================\n",
      "Total params: 25,222,864\n",
      "Trainable params: 25,222,864\n",
      "Non-trainable params: 0\n",
      "----------------------------------------------------------------\n",
      "Input size (MB): 0.57\n",
      "Forward/backward pass size (MB): 25.65\n",
      "Params size (MB): 96.22\n",
      "Estimated Total Size (MB): 122.44\n",
      "----------------------------------------------------------------\n",
      "Epoch 1 \t Training Loss: 1.344 \t Validation Loss: 1.025 \t Epoch Train Accuracy (%): 43.79 \t Epoch Time (s): 1091.4\n"
     ]
    },
    {
     "data": {
      "image/png": "[encoded data removed]",
      "text/plain": [
       "<Figure size 700x700 with 2 Axes>"
      ]
     },
     "metadata": {},
     "output_type": "display_data"
    }
   ],
   "source": [
    "# initiation\n",
    "model = cnn_model.MyCnnModel()\n",
    "device = cnn_model.get_default_device()\n",
    "cnn_model.model_prep_and_summary(model, device)\n",
    "criterion = cnn_model.default_loss()\n",
    "optimizer = cnn_model.default_optimizer(model = model)\n",
    "num_epochs = 1\n",
    "\n",
    "# get training results\n",
    "trained_model, train_result_dict = cnn_model.train_model(model, device, train_loader, val_loader, criterion, optimizer, num_epochs)\n",
    "cnn_model.visualize_training(train_result_dict)"
   ]
  },
  {
   "cell_type": "code",
   "execution_count": 33,
   "metadata": {},
   "outputs": [
    {
     "data": {
      "text/plain": [
       "{'epoch': [1],\n",
       " 'train_loss': [1.344],\n",
       " 'val_loss': [1.025],\n",
       " 'accuracy': [43.79],\n",
       " 'time': [1091.4]}"
      ]
     },
     "execution_count": 33,
     "metadata": {},
     "output_type": "execute_result"
    }
   ],
   "source": [
    "train_result_dict"
   ]
  }
 ],
 "metadata": {
  "kernelspec": {
   "display_name": "venv39",
   "language": "python",
   "name": "python3"
  },
  "language_info": {
   "codemirror_mode": {
    "name": "ipython",
    "version": 3
   },
   "file_extension": ".py",
   "mimetype": "text/x-python",
   "name": "python",
   "nbconvert_exporter": "python",
   "pygments_lexer": "ipython3",
   "version": "3.9.13"
  },
  "orig_nbformat": 4,
  "vscode": {
   "interpreter": {
    "hash": "e458ed402702cae04de52b11f0db2a54fc26831046fecafdf7e0fb403d5fff35"
   }
  }
 },
 "nbformat": 4,
 "nbformat_minor": 2
}
